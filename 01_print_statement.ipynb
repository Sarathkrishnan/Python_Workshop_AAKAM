{
 "cells": [
  {
   "cell_type": "markdown",
   "metadata": {},
   "source": [
    "# How to use `print()` function\n",
    "1. `print()` function used to print the data\n",
    "2. If we want to print more than one items, then we need to seperated by ',' or '+'"
   ]
  },
  {
   "cell_type": "code",
   "execution_count": 3,
   "metadata": {},
   "outputs": [
    {
     "name": "stdout",
     "output_type": "stream",
     "text": [
      "Hello world!\n",
      "Aakam 360\n",
      "Aakam 360\n"
     ]
    }
   ],
   "source": [
    "print(\"Hello world!\")\n",
    "print(\"Aakam\",\"360\")\n",
    "print(\"Aakam\"+\" \"+\"360\")"
   ]
  },
  {
   "cell_type": "markdown",
   "metadata": {},
   "source": [
    "# `sep` argument in python\n",
    "* When we print more than one character in print() statement, it is seperated by black character in default.\n",
    "* If we want we can overide the black character with predefined character.\n",
    "* `sep` argument in print statment help us to do this thing."
   ]
  },
  {
   "cell_type": "code",
   "execution_count": 4,
   "metadata": {},
   "outputs": [
    {
     "name": "stdout",
     "output_type": "stream",
     "text": [
      "We-are-from-Aakam-360\n",
      "a*b*c*d\n"
     ]
    }
   ],
   "source": [
    "print(\"We\",\"are\",\"from\",\"Aakam\",\"360\",sep=\"-\") \n",
    "print(\"a\",\"b\",\"c\",\"d\",sep=\"*\")"
   ]
  },
  {
   "cell_type": "markdown",
   "metadata": {},
   "source": [
    "# `end` argument in python"
   ]
  },
  {
   "cell_type": "code",
   "execution_count": 5,
   "metadata": {},
   "outputs": [
    {
     "name": "stdout",
     "output_type": "stream",
     "text": [
      "Aakam\n",
      "Aakam\n"
     ]
    },
    {
     "data": {
      "text/plain": [
       "'\\n* when ever we execute the print statement in python. python authomatically goto next line.\\n* ie\\nprint(\"Aakam\") == print(\"Aakam\",\"\\n\") \\n* instead of new line we can decide what charcter we need to put at end of line.\\n'"
      ]
     },
     "execution_count": 5,
     "metadata": {},
     "output_type": "execute_result"
    }
   ],
   "source": [
    "print(\"Aakam\")\n",
    "print(\"Aakam\")\n",
    "\n",
    "\"\"\"\n",
    "* when ever we execute the print statement in python. python authomatically goto next line.\n",
    "* ie\n",
    "print(\"Aakam\") == print(\"Aakam\",\"\\n\") \n",
    "* instead of new line we can decide what charcter we need to put at end of line.\n",
    "\"\"\"\n",
    "\n",
    "# print(\"Aakam\",end=\"\")\n",
    "# print(\"Aakam\")\n"
   ]
  },
  {
   "cell_type": "markdown",
   "metadata": {},
   "source": [
    "# Arithmetic Operations in `print()`"
   ]
  },
  {
   "cell_type": "code",
   "execution_count": 6,
   "metadata": {},
   "outputs": [
    {
     "name": "stdout",
     "output_type": "stream",
     "text": [
      "10\n",
      "30\n"
     ]
    }
   ],
   "source": [
    "print(3+7)\n",
    "print(5*6)\n",
    "\n",
    "# note: when we print numbers we dont want quotes"
   ]
  },
  {
   "cell_type": "markdown",
   "metadata": {},
   "source": [
    "# String Arithmentic in `print()`"
   ]
  },
  {
   "cell_type": "code",
   "execution_count": 11,
   "metadata": {},
   "outputs": [
    {
     "name": "stdout",
     "output_type": "stream",
     "text": [
      " 2  2  2  2  2  2  2  2  2  2 \n"
     ]
    }
   ],
   "source": [
    "print(10*\" 2 \")\n",
    "print(\"Hello\"+\"word\")"
   ]
  }
 ],
 "metadata": {
  "kernelspec": {
   "display_name": "Python 3",
   "language": "python",
   "name": "python3"
  },
  "language_info": {
   "codemirror_mode": {
    "name": "ipython",
    "version": 3
   },
   "file_extension": ".py",
   "mimetype": "text/x-python",
   "name": "python",
   "nbconvert_exporter": "python",
   "pygments_lexer": "ipython3",
   "version": "3.12.4"
  }
 },
 "nbformat": 4,
 "nbformat_minor": 2
}
