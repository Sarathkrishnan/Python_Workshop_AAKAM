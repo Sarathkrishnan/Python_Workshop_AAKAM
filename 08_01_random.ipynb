{
 "cells": [
  {
   "cell_type": "markdown",
   "metadata": {},
   "source": [
    "# `Random` library\n",
    "1. To generate a random integer\n",
    "2. To genrerate a random float\n",
    "3. Selecting a random choice from sequence"
   ]
  },
  {
   "cell_type": "code",
   "execution_count": 2,
   "metadata": {},
   "outputs": [
    {
     "name": "stdout",
     "output_type": "stream",
     "text": [
      "7\n",
      "0.51413906917299\n"
     ]
    }
   ],
   "source": [
    "# import libray\n",
    "import random\n",
    "\n",
    "# generate random integer\n",
    "random_integer = random.randint(1, 10)\n",
    "print(random_integer)\n",
    "\n",
    "# generate random floating ponit values\n",
    "random_float = random.random()\n",
    "print(random_float)\n",
    "\n",
    "\n"
   ]
  }
 ],
 "metadata": {
  "kernelspec": {
   "display_name": "Python 3",
   "language": "python",
   "name": "python3"
  },
  "language_info": {
   "codemirror_mode": {
    "name": "ipython",
    "version": 3
   },
   "file_extension": ".py",
   "mimetype": "text/x-python",
   "name": "python",
   "nbconvert_exporter": "python",
   "pygments_lexer": "ipython3",
   "version": "3.12.4"
  }
 },
 "nbformat": 4,
 "nbformat_minor": 2
}
