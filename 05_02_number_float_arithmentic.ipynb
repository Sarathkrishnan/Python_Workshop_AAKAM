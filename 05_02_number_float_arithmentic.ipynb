{
 "cells": [
  {
   "cell_type": "markdown",
   "metadata": {},
   "source": [
    "# Arithmetic operators\n",
    "```\n",
    "1. +    : for adition\n",
    "2. -    : for subtracton\n",
    "3. *    : for multiplication\n",
    "4. /    : for division\n",
    "5. %    : module operator, give remainde after divison\n",
    "6. **   : exponentiation\n",
    "7. //   : Floor division\n",
    "```\n"
   ]
  },
  {
   "cell_type": "code",
   "execution_count": 3,
   "metadata": {},
   "outputs": [
    {
     "name": "stdout",
     "output_type": "stream",
     "text": [
      "512\n",
      "25135\n",
      "8.309090909090909\n",
      "17\n",
      "197419934663652159986236163913945940484286511457648254548128728896119797772710926140865803517917553979398986999537214585013711745810102048247867193\n",
      "8\n"
     ]
    }
   ],
   "source": [
    "x = 457\n",
    "y = 55\n",
    "\n",
    "print(x + y)\n",
    "print(x * y)\n",
    "print(x / y)\n",
    "print(x % y)\n",
    "print(x**y)\n",
    "print(x // y)"
   ]
  },
  {
   "cell_type": "markdown",
   "metadata": {},
   "source": [
    "# Assignment operator\n",
    "\n",
    "| Operator | Example | Same As       |\n",
    "|----------|---------|---------------|\n",
    "| =        | x = 5   | x = 5         |\n",
    "| +=       | x += 3  | x = x + 3     |\n",
    "| -=       | x -= 3  | x = x - 3     |\n",
    "| *=       | x *= 3  | x = x * 3     |\n",
    "| /=       | x /= 3  | x = x / 3     |\n",
    "| %=       | x %= 3  | x = x % 3     |\n",
    "| //=      | x //= 3 | x = x // 3    |\n",
    "| **=      | x **= 3 | x = x ** 3    |"
   ]
  },
  {
   "cell_type": "code",
   "execution_count": null,
   "metadata": {},
   "outputs": [],
   "source": []
  },
  {
   "cell_type": "markdown",
   "metadata": {},
   "source": [
    "# Comparison Operator\n",
    "\n",
    "\n",
    "| Operator | Name                        | Example   |\n",
    "|----------|-----------------------------|-----------|\n",
    "| ==       | Equal                       | x == y    |\n",
    "| !=       | Not equal                   | x != y    |\n",
    "| >        | Greater than                | x > y     |\n",
    "| <        | Less than                   | x < y     |\n",
    "| >=       | Greater than or equal to    | x >= y    |\n",
    "| <=       | Less than or equal to       | x <= y    |"
   ]
  },
  {
   "cell_type": "code",
   "execution_count": null,
   "metadata": {},
   "outputs": [],
   "source": []
  },
  {
   "cell_type": "markdown",
   "metadata": {},
   "source": [
    "# Logical Operators\n",
    "Logical Operator used to combines the conditonal statements.\n",
    "\n",
    "\n",
    "| Operator | Description                                                | Example                   |\n",
    "|----------|------------------------------------------------------------|---------------------------|\n",
    "| and      | Returns True if both statements are true                   | x < 5 and x < 10          |\n",
    "| or       | Returns True if one of the statements is true              | x < 5 or x < 4            |\n",
    "| not      | Reverse the result, returns False if the result is true    | not(x < 5 and x < 10)     |"
   ]
  },
  {
   "cell_type": "code",
   "execution_count": null,
   "metadata": {},
   "outputs": [],
   "source": []
  }
 ],
 "metadata": {
  "kernelspec": {
   "display_name": "Python 3",
   "language": "python",
   "name": "python3"
  },
  "language_info": {
   "codemirror_mode": {
    "name": "ipython",
    "version": 3
   },
   "file_extension": ".py",
   "mimetype": "text/x-python",
   "name": "python",
   "nbconvert_exporter": "python",
   "pygments_lexer": "ipython3",
   "version": "3.12.4"
  }
 },
 "nbformat": 4,
 "nbformat_minor": 2
}
