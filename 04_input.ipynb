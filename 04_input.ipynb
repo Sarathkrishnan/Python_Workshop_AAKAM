{
 "cells": [
  {
   "cell_type": "markdown",
   "metadata": {},
   "source": [
    "# Inputing the data from user"
   ]
  },
  {
   "cell_type": "code",
   "execution_count": null,
   "metadata": {},
   "outputs": [],
   "source": [
    "# inputing the name from the user.\n",
    "\n",
    "name = input(\"Enter the user name:\")\n",
    "\n",
    "# print the name\n",
    "\n",
    "# print the type "
   ]
  },
  {
   "cell_type": "markdown",
   "metadata": {},
   "source": [
    "# Type casting"
   ]
  },
  {
   "cell_type": "code",
   "execution_count": 1,
   "metadata": {},
   "outputs": [
    {
     "name": "stdout",
     "output_type": "stream",
     "text": [
      "<class 'str'>\n"
     ]
    }
   ],
   "source": [
    "age = input(\"Enter your age:\")\n",
    "print(type(age))"
   ]
  },
  {
   "cell_type": "code",
   "execution_count": 3,
   "metadata": {},
   "outputs": [
    {
     "name": "stdout",
     "output_type": "stream",
     "text": [
      "My name is harani and my age is 19\n"
     ]
    }
   ],
   "source": [
    "student_name = \"harani\"\n",
    "age = 19\n",
    "\n",
    "# type casting the int age into string.\n",
    "# because print statment demand str() objects when we do string concatination.\n",
    "print(\"My name is \"+student_name+\" and my age is \"+str(age)) "
   ]
  },
  {
   "cell_type": "markdown",
   "metadata": {},
   "source": [
    "# formated string\n"
   ]
  },
  {
   "cell_type": "code",
   "execution_count": 4,
   "metadata": {},
   "outputs": [
    {
     "name": "stdout",
     "output_type": "stream",
     "text": [
      "My name is harani and my age is 19\n"
     ]
    }
   ],
   "source": [
    "student_name = \"harani\"\n",
    "age = 19\n",
    "\n",
    "print(f\"My name is {student_name} and my age is {str(age)}\") "
   ]
  }
 ],
 "metadata": {
  "kernelspec": {
   "display_name": "Python 3",
   "language": "python",
   "name": "python3"
  },
  "language_info": {
   "codemirror_mode": {
    "name": "ipython",
    "version": 3
   },
   "file_extension": ".py",
   "mimetype": "text/x-python",
   "name": "python",
   "nbconvert_exporter": "python",
   "pygments_lexer": "ipython3",
   "version": "3.12.4"
  }
 },
 "nbformat": 4,
 "nbformat_minor": 2
}
