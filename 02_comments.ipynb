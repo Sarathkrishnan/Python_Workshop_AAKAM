{
 "cells": [
  {
   "cell_type": "markdown",
   "metadata": {},
   "source": [
    "# Comments in Python\n",
    "comments are the special lines inside source code.\n",
    "\n",
    "Type of comments\n",
    "1. Single line comments\n",
    "2. Multi line comments\n",
    "\n",
    "Purpose of comments\n",
    "1. Used as documentaion option, programmer provide the explanation of there code for through comments.\n",
    "2. provide the purpose of code block\n",
    "3. provide the explanation about coding logic.\n",
    "4. comment the unwanted lines in code"
   ]
  },
  {
   "cell_type": "code",
   "execution_count": null,
   "metadata": {},
   "outputs": [],
   "source": [
    "# this is single line\n",
    "\n",
    "\"\"\"\n",
    "This is multiline comment.\n",
    "comment line 2\n",
    "comment line 3\n",
    "comment line 4\n",
    "\"\"\""
   ]
  }
 ],
 "metadata": {
  "language_info": {
   "name": "python"
  }
 },
 "nbformat": 4,
 "nbformat_minor": 2
}
