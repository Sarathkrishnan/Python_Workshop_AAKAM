{
 "cells": [
  {
   "cell_type": "markdown",
   "metadata": {},
   "source": [
    "# Repeated execution\n",
    "Some functionality of program executed repeatedly.\n",
    "We can reapeate the code block using following python loop functionality\n",
    "* `for` \n",
    "* `while`"
   ]
  },
  {
   "cell_type": "code",
   "execution_count": null,
   "metadata": {},
   "outputs": [],
   "source": [
    "print(\"* \")\n",
    "print(\"* \" * 2)\n",
    "print(\"* \" * 3)\n",
    "print(\"* \" * 4)\n",
    "print(\"* \" * 5)\n",
    "print(\"* \" * 6)"
   ]
  },
  {
   "cell_type": "code",
   "execution_count": null,
   "metadata": {},
   "outputs": [],
   "source": [
    "for i in range(1,7):\n",
    "    print(\"* \" * i)\n",
    "\n",
    "# instead of writing the 6 lines we can perform task within 2 line."
   ]
  },
  {
   "cell_type": "markdown",
   "metadata": {},
   "source": [
    "# Python `range()`\n",
    "* range function return list sequence of numbers\n",
    "* syntaxt `range(start, stop, step)`\n"
   ]
  },
  {
   "cell_type": "code",
   "execution_count": null,
   "metadata": {},
   "outputs": [],
   "source": [
    "for i in range(5): # same as `for i in range(1,10,1)`\n",
    "    print(i)"
   ]
  },
  {
   "cell_type": "code",
   "execution_count": null,
   "metadata": {},
   "outputs": [],
   "source": [
    "# generating mutipliation table of 6\n",
    "for i in range(6, 100, 6):\n",
    "    print(i)"
   ]
  },
  {
   "cell_type": "markdown",
   "metadata": {},
   "source": [
    "# loop control statements in python\n",
    "1. continue: skip current execution of loop and goto next iteration\n",
    "2. break: stop loop and exit from the loop\n",
    "3. pass: used to write empty loops"
   ]
  },
  {
   "cell_type": "code",
   "execution_count": null,
   "metadata": {},
   "outputs": [],
   "source": [
    "# Continue\n",
    "for i in range(5):\n",
    "    if i==3:\n",
    "        continue\n",
    "    print(i)"
   ]
  },
  {
   "cell_type": "code",
   "execution_count": null,
   "metadata": {},
   "outputs": [],
   "source": [
    "# Break\n",
    "for i in range(10):\n",
    "    if i==7:\n",
    "        break\n",
    "    print(i)"
   ]
  },
  {
   "cell_type": "code",
   "execution_count": null,
   "metadata": {},
   "outputs": [],
   "source": [
    "# pass\n",
    "for i in range(5):\n",
    "    pass"
   ]
  },
  {
   "cell_type": "markdown",
   "metadata": {},
   "source": [
    "# Iterating List\n"
   ]
  },
  {
   "cell_type": "code",
   "execution_count": null,
   "metadata": {},
   "outputs": [],
   "source": [
    "cities = [\"Mumbai\", \"Delhi\", \"Bangalore\", \"Hyderabad\", \"Chennai\"]\n",
    "for city in cities:\n",
    "    print(city)"
   ]
  },
  {
   "cell_type": "markdown",
   "metadata": {},
   "source": [
    "# `While` loop in python\n",
    "\n",
    "Based on some condition repeate the statement\n",
    "\n",
    "``` \n",
    "while conditon:\n",
    "    a block of statements\n",
    "````"
   ]
  },
  {
   "cell_type": "code",
   "execution_count": null,
   "metadata": {},
   "outputs": [],
   "source": [
    "# initialize the loop variable\n",
    "counter = 1\n",
    "\n",
    "while counter < 21:    # condition\n",
    "    print(counter)\n",
    "    counter = counter + 1;"
   ]
  },
  {
   "cell_type": "code",
   "execution_count": null,
   "metadata": {},
   "outputs": [],
   "source": [
    "# while loop print all number between 1 and 50. but not print multiple of 3\n",
    "number = 1\n",
    "while number<50:\n",
    "    print(number)\n",
    "    number = number+1\n",
    "    # need to write a condition"
   ]
  },
  {
   "cell_type": "code",
   "execution_count": null,
   "metadata": {},
   "outputs": [],
   "source": [
    "# print pyramid pattern using while\n",
    "# *\n",
    "# * *\n",
    "# * * *\n",
    "# * * * *\n",
    "\n",
    "start = 1\n",
    "while start < 5:\n",
    "    print(\"* \" * start)\n",
    "    start = start+ 1\n"
   ]
  },
  {
   "cell_type": "code",
   "execution_count": 34,
   "metadata": {},
   "outputs": [
    {
     "name": "stdout",
     "output_type": "stream",
     "text": [
      "*  \n",
      "\n",
      "*  *  \n",
      "\n",
      "*  *  *  \n",
      "\n",
      "*  *  *  *  \n",
      "\n",
      "*  *  *  *  *  \n",
      "\n",
      "*  *  *  *  *  *  \n",
      "\n",
      "*  *  *  *  *  *  *  \n",
      "\n",
      "*  *  *  *  *  *  *  *  \n",
      "\n",
      "*  *  *  *  *  *  *  *  *  \n",
      "\n"
     ]
    }
   ],
   "source": [
    "# write python code for pyramid pattern using nested while loop in python\n",
    "\n",
    "height = 5\n",
    "\n",
    "i=1\n",
    "while  i < 10:\n",
    "    level = 0\n",
    "    while level < i :\n",
    "        print(\"* \", end=\" \")\n",
    "        level = level + 1;\n",
    "    print(\"\\n\")\n",
    "    i = i+1"
   ]
  }
 ],
 "metadata": {
  "kernelspec": {
   "display_name": "Python 3",
   "language": "python",
   "name": "python3"
  },
  "language_info": {
   "codemirror_mode": {
    "name": "ipython",
    "version": 3
   },
   "file_extension": ".py",
   "mimetype": "text/x-python",
   "name": "python",
   "nbconvert_exporter": "python",
   "pygments_lexer": "ipython3",
   "version": "3.10.12"
  }
 },
 "nbformat": 4,
 "nbformat_minor": 2
}
