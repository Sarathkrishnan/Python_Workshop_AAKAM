{
 "cells": [
  {
   "cell_type": "markdown",
   "metadata": {},
   "source": [
    "# `math` library\n",
    "this module contains the some common function required for math library."
   ]
  },
  {
   "cell_type": "code",
   "execution_count": 2,
   "metadata": {},
   "outputs": [
    {
     "name": "stdout",
     "output_type": "stream",
     "text": [
      "4.0\n",
      "120\n",
      "256.0\n",
      "3.141592653589793\n"
     ]
    }
   ],
   "source": [
    "import math\n",
    "\n",
    "# square root\n",
    "sqrt_result = math.sqrt(16)\n",
    "print(sqrt_result)\n",
    "\n",
    "# factorial\n",
    "fact_result = math.factorial(5)\n",
    "print(fact_result)\n",
    "\n",
    "# power\n",
    "power_result = math.pow(4, 4)\n",
    "print(power_result)\n",
    "\n",
    "# pi\n",
    "pi_result = math.pi\n",
    "print(pi_result)\n"
   ]
  },
  {
   "cell_type": "markdown",
   "metadata": {},
   "source": [
    "# other math functions\n",
    "1. math.exp()\n",
    "2. math.sin()\n",
    "3. math.pi\n",
    "3. math.cos()\n"
   ]
  }
 ],
 "metadata": {
  "kernelspec": {
   "display_name": "Python 3",
   "language": "python",
   "name": "python3"
  },
  "language_info": {
   "codemirror_mode": {
    "name": "ipython",
    "version": 3
   },
   "file_extension": ".py",
   "mimetype": "text/x-python",
   "name": "python",
   "nbconvert_exporter": "python",
   "pygments_lexer": "ipython3",
   "version": "3.10.12"
  }
 },
 "nbformat": 4,
 "nbformat_minor": 2
}
